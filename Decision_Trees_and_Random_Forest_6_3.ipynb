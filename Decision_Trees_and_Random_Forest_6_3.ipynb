{
 "cells": [
  {
   "cell_type": "markdown",
   "metadata": {
    "id": "kFEOKQJWcmdL"
   },
   "source": [
    " ## Decision Trees and Random Forest"
   ]
  },
  {
   "cell_type": "code",
   "execution_count": 1,
   "metadata": {
    "id": "BYCzzl-VcmdM"
   },
   "outputs": [],
   "source": [
    "%matplotlib inline\n",
    "import numpy as np\n",
    "import pandas as pd\n",
    "\n",
    "from sklearn.ensemble import RandomForestClassifier\n",
    "from sklearn import tree\n",
    "from scipy.stats import mode\n",
    "from sklearn.tree import DecisionTreeClassifier"
   ]
  },
  {
   "cell_type": "markdown",
   "metadata": {
    "id": "0B8ZgW1vcmdO"
   },
   "source": [
    "###  Song popularity prediction using Random Forest\n",
    "The goal of this task is to train a random forest model that predicts the song popularity using the datasets\n"
   ]
  },
  {
   "cell_type": "code",
   "execution_count": 2,
   "metadata": {
    "id": "tI3ygzpBcmdO"
   },
   "outputs": [],
   "source": [
    "# Read data\n",
    "df_train = pd.read_csv('train-songs.csv')\n",
    "df_test = pd.read_csv('test-songs.csv')\n",
    "#TODO\n",
    "\n",
    "train_X = df_train.drop('popular',axis=1)\n",
    "train_y = df_train['popular']\n",
    "test_X = df_test.drop('popular',axis=1)\n",
    "test_y = df_test['popular']"
   ]
  },
  {
   "cell_type": "code",
   "execution_count": 3,
   "metadata": {
    "colab": {
     "base_uri": "https://localhost:8080/"
    },
    "id": "SMatFARkqiDO",
    "outputId": "818e34fb-e6a6-48d7-9a93-24acdb9863ac"
   },
   "outputs": [
    {
     "name": "stdout",
     "output_type": "stream",
     "text": [
      "20000\n"
     ]
    }
   ],
   "source": [
    "dataset_size = df_train.shape[0]  # Number of rows in the DataFrame\n",
    "print(dataset_size)"
   ]
  },
  {
   "cell_type": "markdown",
   "metadata": {
    "id": "DWsHTLuccmdO"
   },
   "source": [
    "   i\\. Implement a function that draws a bootstrap sample of size N from the train dataset, where N can be specified by the user.\n",
    "\n",
    "\n"
   ]
  },
  {
   "cell_type": "code",
   "execution_count": 4,
   "metadata": {
    "id": "VxNQJTbacmdO"
   },
   "outputs": [],
   "source": [
    "def generate_bootstrap(train_X,train_y,N):\n",
    "    # Get the number of samples in the training dataset\n",
    "    num_samples = len(train_X)\n",
    "\n",
    "    # Generate random indices with replacement\n",
    "    bootstrap_indices = np.random.choice(num_samples, size=N, replace=True)\n",
    "\n",
    "    # Create the bootstrap sample using the selected indices\n",
    "    bootstrap_X = train_X.iloc[bootstrap_indices]\n",
    "    bootstrap_y = train_y.iloc[bootstrap_indices]\n",
    "\n",
    "    return bootstrap_X, bootstrap_y\n",
    "\n"
   ]
  },
  {
   "cell_type": "markdown",
   "metadata": {
    "id": "ykcecJxOcmdP"
   },
   "source": [
    "   ii\\. Complete the implementation of the random forest algorithm. For this task you may use the DecisionTreeClassifier from the scikit-learn library. The other parts of the random forest algorithm must be implemented using only Scipy/Numpy."
   ]
  },
  {
   "cell_type": "code",
   "execution_count": 5,
   "metadata": {
    "id": "MPQ236x0cmdP"
   },
   "outputs": [],
   "source": [
    "class RandomForest:\n",
    "   def __init__(self,n_trees,max_features,max_samples,min_node_size, max_depth):\n",
    "\n",
    "      #TODO Initialize list containing weak classifiers. Also initialize any other parameter if required.\n",
    "      self.n_trees = n_trees\n",
    "      self.max_features = max_features\n",
    "      self.max_samples = max_samples\n",
    "      self.min_node_size = min_node_size\n",
    "      self.max_depth = max_depth\n",
    "      self.trees = []\n",
    "\n",
    "\n",
    "\n",
    "\n",
    "   def train(self,train_X,train_y):\n",
    "    #TODO Training each weak classifiernum_samples = len(train_X)\n",
    "    num_features = len(train_X.columns)\n",
    "    for _ in range(self.n_trees):\n",
    "      bootstrap_X, bootstrap_y = generate_bootstrap(train_X, train_y, self.max_samples)\n",
    "      # Train a decision tree classifier\n",
    "      tree = DecisionTreeClassifier(min_samples_leaf=self.min_node_size, max_depth=self.max_depth, max_features= self.max_features)\n",
    "      tree.fit(bootstrap_X, bootstrap_y)\n",
    "\n",
    "      # Append the trained tree to the list of weak classifiers\n",
    "      self.trees.append(tree)\n",
    "\n",
    "   def predict(self, test_X):\n",
    "\n",
    "    num_samples = len(test_X)\n",
    "\n",
    "    # Initialize predictions matrix\n",
    "    predictions = np.zeros((num_samples, self.n_trees))\n",
    "\n",
    "    for i, tree in enumerate(self.trees):\n",
    "        # Make predictions using each weak classifier\n",
    "        tree_predictions = tree.predict(test_X)\n",
    "\n",
    "        # Accumulate predictions\n",
    "        predictions[:, i] = tree_predictions\n",
    "\n",
    "    # Get the most frequent class for each sample\n",
    "    y_predictions = mode(predictions, axis=1)[0].flatten()\n",
    "    return y_predictions\n",
    "\n",
    "\n",
    "\n"
   ]
  },
  {
   "cell_type": "markdown",
   "metadata": {
    "id": "n9n5OFEhcmdP"
   },
   "source": [
    "iii\\. Train the model for the dataset from train-songs.csv using the parameters given below.\n",
    "| Parameter| Value|\n",
    "|----------|------|\n",
    "Number of trees|100|\n",
    "Maximum features per tree|2|\n",
    "Bootstrap sample size|20000|\n",
    "Minimum node size|1|\n",
    "Maximum tree depth|10|\n",
    "\n",
    "\n",
    "Note: The bootstrap sample size is the same as train dataset size in this task.\n"
   ]
  },
  {
   "cell_type": "code",
   "execution_count": 6,
   "metadata": {
    "id": "VSVjTqKacmdQ"
   },
   "outputs": [],
   "source": [
    "# Note: Run this cell without any changes. The model will train if the implementation of subtask (ii) is correct.\n",
    "\n",
    "random_forest_model = RandomForest(n_trees=100, max_samples=20000,max_depth=10,min_node_size=1, max_features=2 )\n",
    "\n",
    "random_forest_model.train(train_X, train_y)\n",
    "\n",
    "\n"
   ]
  },
  {
   "cell_type": "markdown",
   "metadata": {
    "id": "WG7PWigTcmdQ"
   },
   "source": [
    "   iv\\. Calculate the accuracy of the model using the test dataset and compare your results with the\n",
    "RandomForestClassifier from the scikit-learn library using the following parameters."
   ]
  },
  {
   "cell_type": "code",
   "execution_count": 7,
   "metadata": {
    "colab": {
     "base_uri": "https://localhost:8080/"
    },
    "id": "24Vpyd6hcmdQ",
    "outputId": "168af065-2259-45a5-aefc-3f5de395acbc"
   },
   "outputs": [
    {
     "name": "stdout",
     "output_type": "stream",
     "text": [
      "Your Random Forest Model Accuracy: 0.7995\n"
     ]
    }
   ],
   "source": [
    "# TODO Run predict for test data and calculate accuracy\n",
    "# Make predictions using your random forest model\n",
    "from sklearn.metrics import accuracy_score\n",
    "\n",
    "y_predictions = random_forest_model.predict(test_X)\n",
    "\n",
    "# Calculate accuracy using your random forest model\n",
    "your_accuracy = accuracy_score(test_y, y_predictions)\n",
    "print(\"Your Random Forest Model Accuracy:\", your_accuracy)\n"
   ]
  },
  {
   "cell_type": "code",
   "execution_count": 8,
   "metadata": {
    "colab": {
     "base_uri": "https://localhost:8080/"
    },
    "id": "fJ2eym3ycmdQ",
    "outputId": "048b011d-2ffd-47bd-a726-4548b7484d4f"
   },
   "outputs": [
    {
     "name": "stdout",
     "output_type": "stream",
     "text": [
      "Your Random Forest Model Accuracy: 0.806\n"
     ]
    }
   ],
   "source": [
    "# TODO: Train and predict using scikit-learn library\n",
    "random_forest_model = RandomForestClassifier(n_estimators=100, max_depth=10, random_state=42)\n",
    "random_forest_model.fit(train_X, train_y)\n",
    "y_predictions = random_forest_model.predict(test_X)\n",
    "your_accuracy = accuracy_score(test_y, y_predictions)\n",
    "print(\"Your Random Forest Model Accuracy:\", your_accuracy)"
   ]
  }
 ],
 "metadata": {
  "colab": {
   "provenance": []
  },
  "kernel_info": {
   "name": "python3"
  },
  "kernelspec": {
   "display_name": "Python 3 (ipykernel)",
   "language": "python",
   "name": "python3"
  },
  "language_info": {
   "codemirror_mode": {
    "name": "ipython",
    "version": 3
   },
   "file_extension": ".py",
   "mimetype": "text/x-python",
   "name": "python",
   "nbconvert_exporter": "python",
   "pygments_lexer": "ipython3",
   "version": "3.11.5"
  },
  "nteract": {
   "version": "0.15.0"
  },
  "vscode": {
   "interpreter": {
    "hash": "7c617624a7fd88b4018bd9e75be0d58c4afb6a334791d511af9b9a5162b5af2b"
   }
  }
 },
 "nbformat": 4,
 "nbformat_minor": 1
}
